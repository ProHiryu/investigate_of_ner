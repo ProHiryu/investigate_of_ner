{
 "cells": [
  {
   "cell_type": "code",
   "execution_count": 1,
   "metadata": {},
   "outputs": [],
   "source": [
    "# Copyright (c) 2019 - songheqi <songheqi1996@gmail.com>"
   ]
  },
  {
   "cell_type": "code",
   "execution_count": 2,
   "metadata": {},
   "outputs": [],
   "source": [
    "## Stanford NLP\n",
    "## Config see readme"
   ]
  },
  {
   "cell_type": "code",
   "execution_count": 3,
   "metadata": {},
   "outputs": [],
   "source": [
    "import time"
   ]
  },
  {
   "cell_type": "code",
   "execution_count": 4,
   "metadata": {},
   "outputs": [
    {
     "name": "stdout",
     "output_type": "stream",
     "text": [
      "Part of Speech: [('帮我', 'AD'), ('订', 'VV'), ('一', 'CD'), ('张', 'M'), ('明天', 'NT'), ('上午', 'NT'), ('到', 'VV'), ('深圳', 'NR'), ('的', 'DEC'), ('机票', 'NN')]\n",
      "Loading Time:  1.1535921096801758\n",
      "Processing Time:  10.986595153808594\n"
     ]
    }
   ],
   "source": [
    "from stanfordcorenlp import StanfordCoreNLP\n",
    "\n",
    "s = time.time()\n",
    "\n",
    "nlp = StanfordCoreNLP(r'/Users/heqi.song/project/stanford-corenlp-full-2018-10-05', lang='zh', memory='8g')\n",
    "\n",
    "s1 = time.time()\n",
    "\n",
    "sentence = '帮我订一张明天上午到深圳的机票'\n",
    "\n",
    "# print('Tokenize:', nlp.word_tokenize(sentence))\n",
    "print('Part of Speech:', nlp.pos_tag(sentence))\n",
    "# print('Named Entities:', nlp.ner(sentence))\n",
    "# print('Constituency Parsing:', nlp.parse(sentence))\n",
    "# print('Dependency Parsing:', nlp.dependency_parse(sentence))\n",
    "\n",
    "e = time.time()\n",
    "\n",
    "print('Loading Time: ', s1 - s)\n",
    "print('Processing Time: ', e - s1)"
   ]
  },
  {
   "cell_type": "code",
   "execution_count": 5,
   "metadata": {},
   "outputs": [],
   "source": [
    "## HaNLP\n",
    "## Config see readme"
   ]
  },
  {
   "cell_type": "code",
   "execution_count": 6,
   "metadata": {},
   "outputs": [
    {
     "name": "stdout",
     "output_type": "stream",
     "text": [
      "Part of Speech:  [帮/v, 我/r, 订/v, 一/m, 张/q, 明天/t, 上午/t, 到/v, 深圳/ns, 的/u, 机票/n]\n",
      "Loading Time:  0.16071200370788574\n",
      "Processing Time:  0.11133909225463867\n"
     ]
    }
   ],
   "source": [
    "from pyhanlp import HanLP\n",
    "\n",
    "sentence = '帮我订一张明天上午到深圳的机票'\n",
    "\n",
    "s = time.time()\n",
    "\n",
    "CRFnewSegment = HanLP.newSegment(\"crf\")\n",
    "\n",
    "s1 = time.time()\n",
    "\n",
    "print('Part of Speech: ', CRFnewSegment.seg(sentence))\n",
    "\n",
    "e = time.time()\n",
    "\n",
    "print('Loading Time: ', s1 - s)\n",
    "print('Processing Time: ', e - s1)"
   ]
  }
 ],
 "metadata": {
  "kernelspec": {
   "display_name": "Python 3",
   "language": "python",
   "name": "python3"
  },
  "language_info": {
   "codemirror_mode": {
    "name": "ipython",
    "version": 3
   },
   "file_extension": ".py",
   "mimetype": "text/x-python",
   "name": "python",
   "nbconvert_exporter": "python",
   "pygments_lexer": "ipython3",
   "version": "3.6.5"
  }
 },
 "nbformat": 4,
 "nbformat_minor": 2
}
